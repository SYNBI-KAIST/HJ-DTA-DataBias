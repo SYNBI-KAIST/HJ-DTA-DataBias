{
 "cells": [
  {
   "cell_type": "code",
   "execution_count": 9,
   "id": "0afefab0",
   "metadata": {},
   "outputs": [],
   "source": [
    "import pandas as pd\n",
    "from Bio.Align import PairwiseAligner\n",
    "from Bio.Align import substitution_matrices\n",
    "from concurrent.futures import ThreadPoolExecutor, as_completed"
   ]
  },
  {
   "cell_type": "code",
   "execution_count": 10,
   "id": "21bfa648",
   "metadata": {},
   "outputs": [],
   "source": [
    "# Load the dataset\n",
    "df = pd.read_csv('./Input_Prn_Info.csv')"
   ]
  },
  {
   "cell_type": "code",
   "execution_count": 11,
   "id": "e3b1d906",
   "metadata": {},
   "outputs": [],
   "source": [
    "# Initialize the aligner\n",
    "aligner = PairwiseAligner()\n",
    "aligner.substitution_matrix = substitution_matrices.load(\"BLOSUM62\")\n",
    "aligner.mode = 'local'  # Local alignment for Smith-Waterman"
   ]
  },
  {
   "cell_type": "code",
   "execution_count": null,
   "id": "575244b8",
   "metadata": {},
   "outputs": [],
   "source": [
    "# Function to calculate normalized Smith-Waterman score\n",
    "# Symmetric Normalized Score\n",
    "def calc_similarity(seq1, seq2):\n",
    "    alignment_score = aligner.score(seq1, seq2)\n",
    "    max_score_self1 = aligner.score(seq1, seq1)\n",
    "    max_score_self2 = aligner.score(seq2, seq2)\n",
    "    if max_score_self1 == 0 or max_score_self2 == 0:\n",
    "        return 0\n",
    "    else:\n",
    "        return alignment_score / (max_score_self1 * max_score_self2)**0.5"
   ]
  },
  {
   "cell_type": "code",
   "execution_count": 13,
   "id": "e9d3ef32",
   "metadata": {},
   "outputs": [],
   "source": [
    "# Create an empty DataFrame to store results\n",
    "similarity_df = pd.DataFrame(index=df['UNIPROT_AC'], columns=df['UNIPROT_AC'])\n"
   ]
  },
  {
   "cell_type": "code",
   "execution_count": 14,
   "id": "d3e25f36",
   "metadata": {},
   "outputs": [],
   "source": [
    "# Function to process each row\n",
    "def process_row(index):\n",
    "    row = df.loc[index]\n",
    "    scores = [calc_similarity(row['Sequence'], df.loc[j]['Sequence']) for j in df.index]\n",
    "    return pd.Series(scores, index=df['UNIPROT_AC'])\n",
    "\n",
    "# Function to apply align_sequences in parallel\n",
    "def process_rows():\n",
    "    # Prepare the dataframe to hold results\n",
    "    similarity_df = pd.DataFrame(index=df['UNIPROT_AC'], columns=df['UNIPROT_AC'])\n",
    "    with ThreadPoolExecutor(max_workers=18) as executor:\n",
    "        # Submit tasks\n",
    "        futures = {executor.submit(process_row, i): i for i in df.index}\n",
    "        for future in as_completed(futures):\n",
    "            index = futures[future]\n",
    "            try:\n",
    "                result = future.result()\n",
    "                similarity_df.iloc[index] = result\n",
    "            except Exception as e:\n",
    "                print(f\"Failed to process row {index}: {e}\")\n",
    "    return similarity_df"
   ]
  },
  {
   "cell_type": "code",
   "execution_count": 15,
   "id": "47fa0313",
   "metadata": {},
   "outputs": [],
   "source": [
    "# Execute the function\n",
    "similarity_df = process_rows()"
   ]
  },
  {
   "cell_type": "code",
   "execution_count": null,
   "id": "b6fbf0e5",
   "metadata": {},
   "outputs": [],
   "source": []
  },
  {
   "cell_type": "code",
   "execution_count": null,
   "id": "f2d73734",
   "metadata": {},
   "outputs": [],
   "source": []
  }
 ],
 "metadata": {
  "kernelspec": {
   "display_name": "dtilstm",
   "language": "python",
   "name": "dtilstm"
  },
  "language_info": {
   "codemirror_mode": {
    "name": "ipython",
    "version": 3
   },
   "file_extension": ".py",
   "mimetype": "text/x-python",
   "name": "python",
   "nbconvert_exporter": "python",
   "pygments_lexer": "ipython3",
   "version": "3.9.9"
  }
 },
 "nbformat": 4,
 "nbformat_minor": 5
}
